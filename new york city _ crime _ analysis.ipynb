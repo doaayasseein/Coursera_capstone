{
 "cells": [
  {
   "cell_type": "code",
   "execution_count": 2,
   "metadata": {},
   "outputs": [
    {
     "name": "stdout",
     "output_type": "stream",
     "text": [
      "Collecting seaborn\n",
      "\u001b[?25l  Downloading https://files.pythonhosted.org/packages/a8/76/220ba4420459d9c4c9c9587c6ce607bf56c25b3d3d2de62056efe482dadc/seaborn-0.9.0-py3-none-any.whl (208kB)\n",
      "\u001b[K    100% |████████████████████████████████| 215kB 732kB/s ta 0:00:01\n",
      "\u001b[?25hRequirement already satisfied: matplotlib>=1.4.3 in /home/ingramai/miniconda3/lib/python3.7/site-packages (from seaborn) (3.1.1)\n",
      "Requirement already satisfied: scipy>=0.14.0 in /home/ingramai/miniconda3/lib/python3.7/site-packages (from seaborn) (1.3.1)\n",
      "Requirement already satisfied: numpy>=1.9.3 in /home/ingramai/miniconda3/lib/python3.7/site-packages (from seaborn) (1.16.4)\n",
      "Requirement already satisfied: pandas>=0.15.2 in /home/ingramai/miniconda3/lib/python3.7/site-packages (from seaborn) (0.24.2)\n",
      "Requirement already satisfied: pyparsing!=2.0.4,!=2.1.2,!=2.1.6,>=2.0.1 in /home/ingramai/miniconda3/lib/python3.7/site-packages (from matplotlib>=1.4.3->seaborn) (2.4.2)\n",
      "Requirement already satisfied: cycler>=0.10 in /home/ingramai/miniconda3/lib/python3.7/site-packages (from matplotlib>=1.4.3->seaborn) (0.10.0)\n",
      "Requirement already satisfied: python-dateutil>=2.1 in /home/ingramai/miniconda3/lib/python3.7/site-packages (from matplotlib>=1.4.3->seaborn) (2.8.0)\n",
      "Requirement already satisfied: kiwisolver>=1.0.1 in /home/ingramai/miniconda3/lib/python3.7/site-packages (from matplotlib>=1.4.3->seaborn) (1.1.0)\n",
      "Requirement already satisfied: pytz>=2011k in /home/ingramai/miniconda3/lib/python3.7/site-packages (from pandas>=0.15.2->seaborn) (2019.1)\n",
      "Requirement already satisfied: six in /home/ingramai/miniconda3/lib/python3.7/site-packages (from cycler>=0.10->matplotlib>=1.4.3->seaborn) (1.12.0)\n",
      "Requirement already satisfied: setuptools in /home/ingramai/miniconda3/lib/python3.7/site-packages (from kiwisolver>=1.0.1->matplotlib>=1.4.3->seaborn) (41.0.0)\n",
      "Installing collected packages: seaborn\n",
      "Successfully installed seaborn-0.9.0\n",
      "Note: you may need to restart the kernel to use updated packages.\n"
     ]
    }
   ],
   "source": [
    "pip install seaborn"
   ]
  },
  {
   "cell_type": "code",
   "execution_count": 3,
   "metadata": {},
   "outputs": [
    {
     "name": "stderr",
     "output_type": "stream",
     "text": [
      "/home/ingramai/miniconda3/lib/python3.7/site-packages/IPython/core/interactiveshell.py:3057: DtypeWarning: Columns (17) have mixed types. Specify dtype option on import or set low_memory=False.\n",
      "  interactivity=interactivity, compiler=compiler, result=result)\n"
     ]
    }
   ],
   "source": [
    "import pandas as pd\n",
    "import numpy as np\n",
    "import seaborn as sns\n",
    "import matplotlib.pyplot as plt\n",
    "%matplotlib inline\n",
    "df = pd.read_csv(\"NYPD_Complaint_Data_Historic.csv\")\n",
    "population = pd.read_csv(\"Population_by_Borough_NYC.csv\")"
   ]
  },
  {
   "cell_type": "code",
   "execution_count": 20,
   "metadata": {},
   "outputs": [
    {
     "data": {
      "text/html": [
       "<div>\n",
       "<style scoped>\n",
       "    .dataframe tbody tr th:only-of-type {\n",
       "        vertical-align: middle;\n",
       "    }\n",
       "\n",
       "    .dataframe tbody tr th {\n",
       "        vertical-align: top;\n",
       "    }\n",
       "\n",
       "    .dataframe thead th {\n",
       "        text-align: right;\n",
       "    }\n",
       "</style>\n",
       "<table border=\"1\" class=\"dataframe\">\n",
       "  <thead>\n",
       "    <tr style=\"text-align: right;\">\n",
       "      <th></th>\n",
       "      <th>CMPLNT_NUM</th>\n",
       "      <th>CMPLNT_FR_DT</th>\n",
       "      <th>CMPLNT_FR_TM</th>\n",
       "      <th>CMPLNT_TO_DT</th>\n",
       "      <th>CMPLNT_TO_TM</th>\n",
       "      <th>RPT_DT</th>\n",
       "      <th>KY_CD</th>\n",
       "      <th>OFNS_DESC</th>\n",
       "      <th>PD_CD</th>\n",
       "      <th>PD_DESC</th>\n",
       "      <th>...</th>\n",
       "      <th>ADDR_PCT_CD</th>\n",
       "      <th>LOC_OF_OCCUR_DESC</th>\n",
       "      <th>PREM_TYP_DESC</th>\n",
       "      <th>PARKS_NM</th>\n",
       "      <th>HADEVELOPT</th>\n",
       "      <th>X_COORD_CD</th>\n",
       "      <th>Y_COORD_CD</th>\n",
       "      <th>Latitude</th>\n",
       "      <th>Longitude</th>\n",
       "      <th>Lat_Lon</th>\n",
       "    </tr>\n",
       "  </thead>\n",
       "  <tbody>\n",
       "    <tr>\n",
       "      <th>0</th>\n",
       "      <td>101109527</td>\n",
       "      <td>12/31/2015</td>\n",
       "      <td>23:45:00</td>\n",
       "      <td>NaN</td>\n",
       "      <td>NaN</td>\n",
       "      <td>12/31/2015</td>\n",
       "      <td>113</td>\n",
       "      <td>FORGERY</td>\n",
       "      <td>729.0</td>\n",
       "      <td>FORGERY,ETC.,UNCLASSIFIED-FELO</td>\n",
       "      <td>...</td>\n",
       "      <td>44.0</td>\n",
       "      <td>INSIDE</td>\n",
       "      <td>BAR/NIGHT CLUB</td>\n",
       "      <td>NaN</td>\n",
       "      <td>NaN</td>\n",
       "      <td>1007314.0</td>\n",
       "      <td>241257.0</td>\n",
       "      <td>40.828848</td>\n",
       "      <td>-73.916661</td>\n",
       "      <td>(40.828848333, -73.916661142)</td>\n",
       "    </tr>\n",
       "    <tr>\n",
       "      <th>1</th>\n",
       "      <td>153401121</td>\n",
       "      <td>12/31/2015</td>\n",
       "      <td>23:36:00</td>\n",
       "      <td>NaN</td>\n",
       "      <td>NaN</td>\n",
       "      <td>12/31/2015</td>\n",
       "      <td>101</td>\n",
       "      <td>MURDER &amp; NON-NEGL. MANSLAUGHTER</td>\n",
       "      <td>NaN</td>\n",
       "      <td>NaN</td>\n",
       "      <td>...</td>\n",
       "      <td>103.0</td>\n",
       "      <td>OUTSIDE</td>\n",
       "      <td>NaN</td>\n",
       "      <td>NaN</td>\n",
       "      <td>NaN</td>\n",
       "      <td>1043991.0</td>\n",
       "      <td>193406.0</td>\n",
       "      <td>40.697338</td>\n",
       "      <td>-73.784557</td>\n",
       "      <td>(40.697338138, -73.784556739)</td>\n",
       "    </tr>\n",
       "    <tr>\n",
       "      <th>2</th>\n",
       "      <td>569369778</td>\n",
       "      <td>12/31/2015</td>\n",
       "      <td>23:30:00</td>\n",
       "      <td>NaN</td>\n",
       "      <td>NaN</td>\n",
       "      <td>12/31/2015</td>\n",
       "      <td>117</td>\n",
       "      <td>DANGEROUS DRUGS</td>\n",
       "      <td>503.0</td>\n",
       "      <td>CONTROLLED SUBSTANCE,INTENT TO</td>\n",
       "      <td>...</td>\n",
       "      <td>28.0</td>\n",
       "      <td>NaN</td>\n",
       "      <td>OTHER</td>\n",
       "      <td>NaN</td>\n",
       "      <td>NaN</td>\n",
       "      <td>999463.0</td>\n",
       "      <td>231690.0</td>\n",
       "      <td>40.802607</td>\n",
       "      <td>-73.945052</td>\n",
       "      <td>(40.802606608, -73.945051911)</td>\n",
       "    </tr>\n",
       "    <tr>\n",
       "      <th>3</th>\n",
       "      <td>968417082</td>\n",
       "      <td>12/31/2015</td>\n",
       "      <td>23:30:00</td>\n",
       "      <td>NaN</td>\n",
       "      <td>NaN</td>\n",
       "      <td>12/31/2015</td>\n",
       "      <td>344</td>\n",
       "      <td>ASSAULT 3 &amp; RELATED OFFENSES</td>\n",
       "      <td>101.0</td>\n",
       "      <td>ASSAULT 3</td>\n",
       "      <td>...</td>\n",
       "      <td>105.0</td>\n",
       "      <td>INSIDE</td>\n",
       "      <td>RESIDENCE-HOUSE</td>\n",
       "      <td>NaN</td>\n",
       "      <td>NaN</td>\n",
       "      <td>1060183.0</td>\n",
       "      <td>177862.0</td>\n",
       "      <td>40.654549</td>\n",
       "      <td>-73.726339</td>\n",
       "      <td>(40.654549444, -73.726338791)</td>\n",
       "    </tr>\n",
       "    <tr>\n",
       "      <th>4</th>\n",
       "      <td>641637920</td>\n",
       "      <td>12/31/2015</td>\n",
       "      <td>23:25:00</td>\n",
       "      <td>12/31/2015</td>\n",
       "      <td>23:30:00</td>\n",
       "      <td>12/31/2015</td>\n",
       "      <td>344</td>\n",
       "      <td>ASSAULT 3 &amp; RELATED OFFENSES</td>\n",
       "      <td>101.0</td>\n",
       "      <td>ASSAULT 3</td>\n",
       "      <td>...</td>\n",
       "      <td>13.0</td>\n",
       "      <td>FRONT OF</td>\n",
       "      <td>OTHER</td>\n",
       "      <td>NaN</td>\n",
       "      <td>NaN</td>\n",
       "      <td>987606.0</td>\n",
       "      <td>208148.0</td>\n",
       "      <td>40.738002</td>\n",
       "      <td>-73.987891</td>\n",
       "      <td>(40.7380024, -73.98789129)</td>\n",
       "    </tr>\n",
       "  </tbody>\n",
       "</table>\n",
       "<p>5 rows × 24 columns</p>\n",
       "</div>"
      ],
      "text/plain": [
       "   CMPLNT_NUM CMPLNT_FR_DT CMPLNT_FR_TM CMPLNT_TO_DT CMPLNT_TO_TM      RPT_DT  \\\n",
       "0   101109527   12/31/2015     23:45:00          NaN          NaN  12/31/2015   \n",
       "1   153401121   12/31/2015     23:36:00          NaN          NaN  12/31/2015   \n",
       "2   569369778   12/31/2015     23:30:00          NaN          NaN  12/31/2015   \n",
       "3   968417082   12/31/2015     23:30:00          NaN          NaN  12/31/2015   \n",
       "4   641637920   12/31/2015     23:25:00   12/31/2015     23:30:00  12/31/2015   \n",
       "\n",
       "   KY_CD                        OFNS_DESC  PD_CD  \\\n",
       "0    113                          FORGERY  729.0   \n",
       "1    101  MURDER & NON-NEGL. MANSLAUGHTER    NaN   \n",
       "2    117                  DANGEROUS DRUGS  503.0   \n",
       "3    344     ASSAULT 3 & RELATED OFFENSES  101.0   \n",
       "4    344     ASSAULT 3 & RELATED OFFENSES  101.0   \n",
       "\n",
       "                          PD_DESC  ... ADDR_PCT_CD LOC_OF_OCCUR_DESC  \\\n",
       "0  FORGERY,ETC.,UNCLASSIFIED-FELO  ...        44.0            INSIDE   \n",
       "1                             NaN  ...       103.0           OUTSIDE   \n",
       "2  CONTROLLED SUBSTANCE,INTENT TO  ...        28.0               NaN   \n",
       "3                       ASSAULT 3  ...       105.0            INSIDE   \n",
       "4                       ASSAULT 3  ...        13.0          FRONT OF   \n",
       "\n",
       "     PREM_TYP_DESC PARKS_NM  HADEVELOPT X_COORD_CD Y_COORD_CD   Latitude  \\\n",
       "0   BAR/NIGHT CLUB      NaN         NaN  1007314.0   241257.0  40.828848   \n",
       "1              NaN      NaN         NaN  1043991.0   193406.0  40.697338   \n",
       "2            OTHER      NaN         NaN   999463.0   231690.0  40.802607   \n",
       "3  RESIDENCE-HOUSE      NaN         NaN  1060183.0   177862.0  40.654549   \n",
       "4            OTHER      NaN         NaN   987606.0   208148.0  40.738002   \n",
       "\n",
       "   Longitude                        Lat_Lon  \n",
       "0 -73.916661  (40.828848333, -73.916661142)  \n",
       "1 -73.784557  (40.697338138, -73.784556739)  \n",
       "2 -73.945052  (40.802606608, -73.945051911)  \n",
       "3 -73.726339  (40.654549444, -73.726338791)  \n",
       "4 -73.987891     (40.7380024, -73.98789129)  \n",
       "\n",
       "[5 rows x 24 columns]"
      ]
     },
     "execution_count": 20,
     "metadata": {},
     "output_type": "execute_result"
    }
   ],
   "source": [
    "df.head()"
   ]
  },
  {
   "cell_type": "code",
   "execution_count": 21,
   "metadata": {},
   "outputs": [
    {
     "data": {
      "text/plain": [
       "(1048575, 24)"
      ]
     },
     "execution_count": 21,
     "metadata": {},
     "output_type": "execute_result"
    }
   ],
   "source": [
    "df.shape"
   ]
  },
  {
   "cell_type": "code",
   "execution_count": 22,
   "metadata": {},
   "outputs": [
    {
     "data": {
      "text/plain": [
       "CMPLNT_NUM                                101109527\n",
       "CMPLNT_FR_DT                             12/31/2015\n",
       "CMPLNT_FR_TM                               23:45:00\n",
       "CMPLNT_TO_DT                                    NaN\n",
       "CMPLNT_TO_TM                                    NaN\n",
       "RPT_DT                                   12/31/2015\n",
       "KY_CD                                           113\n",
       "OFNS_DESC                                   FORGERY\n",
       "PD_CD                                           729\n",
       "PD_DESC              FORGERY,ETC.,UNCLASSIFIED-FELO\n",
       "CRM_ATPT_CPTD_CD                          COMPLETED\n",
       "LAW_CAT_CD                                   FELONY\n",
       "JURIS_DESC                         N.Y. POLICE DEPT\n",
       "BORO_NM                                       BRONX\n",
       "ADDR_PCT_CD                                      44\n",
       "LOC_OF_OCCUR_DESC                            INSIDE\n",
       "PREM_TYP_DESC                        BAR/NIGHT CLUB\n",
       "PARKS_NM                                        NaN\n",
       "HADEVELOPT                                      NaN\n",
       "X_COORD_CD                              1.00731e+06\n",
       "Y_COORD_CD                                   241257\n",
       "Latitude                                    40.8288\n",
       "Longitude                                  -73.9167\n",
       "Lat_Lon               (40.828848333, -73.916661142)\n",
       "Name: 0, dtype: object"
      ]
     },
     "execution_count": 22,
     "metadata": {},
     "output_type": "execute_result"
    }
   ],
   "source": [
    "df.iloc[0]"
   ]
  },
  {
   "cell_type": "code",
   "execution_count": 9,
   "metadata": {},
   "outputs": [
    {
     "data": {
      "text/html": [
       "<div>\n",
       "<style scoped>\n",
       "    .dataframe tbody tr th:only-of-type {\n",
       "        vertical-align: middle;\n",
       "    }\n",
       "\n",
       "    .dataframe tbody tr th {\n",
       "        vertical-align: top;\n",
       "    }\n",
       "\n",
       "    .dataframe thead th {\n",
       "        text-align: right;\n",
       "    }\n",
       "</style>\n",
       "<table border=\"1\" class=\"dataframe\">\n",
       "  <thead>\n",
       "    <tr style=\"text-align: right;\">\n",
       "      <th></th>\n",
       "      <th>Borough</th>\n",
       "      <th>1950</th>\n",
       "      <th>1960</th>\n",
       "      <th>1970</th>\n",
       "      <th>1980</th>\n",
       "      <th>1990</th>\n",
       "      <th>2000</th>\n",
       "      <th>2010</th>\n",
       "      <th>2020</th>\n",
       "      <th>2030</th>\n",
       "      <th>2040</th>\n",
       "    </tr>\n",
       "  </thead>\n",
       "  <tbody>\n",
       "    <tr>\n",
       "      <th>0</th>\n",
       "      <td>NYC Total</td>\n",
       "      <td>7,891,957</td>\n",
       "      <td>7,781,984</td>\n",
       "      <td>7,894,862</td>\n",
       "      <td>7,071,639</td>\n",
       "      <td>7,322,564</td>\n",
       "      <td>8,008,278</td>\n",
       "      <td>8,242,624</td>\n",
       "      <td>8,550,971</td>\n",
       "      <td>8,821,027</td>\n",
       "      <td>9,025,145</td>\n",
       "    </tr>\n",
       "    <tr>\n",
       "      <th>1</th>\n",
       "      <td>Bronx</td>\n",
       "      <td>1,451,277</td>\n",
       "      <td>1,424,815</td>\n",
       "      <td>1,471,701</td>\n",
       "      <td>1,168,972</td>\n",
       "      <td>1,203,789</td>\n",
       "      <td>1,332,650</td>\n",
       "      <td>1,385,108</td>\n",
       "      <td>1,446,788</td>\n",
       "      <td>1,518,998</td>\n",
       "      <td>1,579,245</td>\n",
       "    </tr>\n",
       "    <tr>\n",
       "      <th>2</th>\n",
       "      <td>Brooklyn</td>\n",
       "      <td>2,738,175</td>\n",
       "      <td>2,627,319</td>\n",
       "      <td>2,602,012</td>\n",
       "      <td>2,230,936</td>\n",
       "      <td>2,300,664</td>\n",
       "      <td>2,465,326</td>\n",
       "      <td>2,552,911</td>\n",
       "      <td>2,648,452</td>\n",
       "      <td>2,754,009</td>\n",
       "      <td>2,840,525</td>\n",
       "    </tr>\n",
       "    <tr>\n",
       "      <th>3</th>\n",
       "      <td>Manhattan</td>\n",
       "      <td>1,960,101</td>\n",
       "      <td>1,698,281</td>\n",
       "      <td>1,539,233</td>\n",
       "      <td>1,428,285</td>\n",
       "      <td>1,487,536</td>\n",
       "      <td>1,537,195</td>\n",
       "      <td>1,585,873</td>\n",
       "      <td>1,638,281</td>\n",
       "      <td>1,676,720</td>\n",
       "      <td>1,691,617</td>\n",
       "    </tr>\n",
       "    <tr>\n",
       "      <th>4</th>\n",
       "      <td>Queens</td>\n",
       "      <td>1,550,849</td>\n",
       "      <td>1,809,578</td>\n",
       "      <td>1,986,473</td>\n",
       "      <td>1,891,325</td>\n",
       "      <td>1,951,598</td>\n",
       "      <td>2,229,379</td>\n",
       "      <td>2,250,002</td>\n",
       "      <td>2,330,295</td>\n",
       "      <td>2,373,551</td>\n",
       "      <td>2,412,649</td>\n",
       "    </tr>\n",
       "    <tr>\n",
       "      <th>5</th>\n",
       "      <td>Staten Island</td>\n",
       "      <td>191,555</td>\n",
       "      <td>221,991</td>\n",
       "      <td>295,443</td>\n",
       "      <td>352,121</td>\n",
       "      <td>378,977</td>\n",
       "      <td>443,728</td>\n",
       "      <td>468,730</td>\n",
       "      <td>487,155</td>\n",
       "      <td>497,749</td>\n",
       "      <td>501,109</td>\n",
       "    </tr>\n",
       "  </tbody>\n",
       "</table>\n",
       "</div>"
      ],
      "text/plain": [
       "            Borough       1950       1960       1970       1980       1990  \\\n",
       "0         NYC Total  7,891,957  7,781,984  7,894,862  7,071,639  7,322,564   \n",
       "1             Bronx  1,451,277  1,424,815  1,471,701  1,168,972  1,203,789   \n",
       "2          Brooklyn  2,738,175  2,627,319  2,602,012  2,230,936  2,300,664   \n",
       "3         Manhattan  1,960,101  1,698,281  1,539,233  1,428,285  1,487,536   \n",
       "4            Queens  1,550,849  1,809,578  1,986,473  1,891,325  1,951,598   \n",
       "5     Staten Island    191,555    221,991    295,443    352,121    378,977   \n",
       "\n",
       "        2000       2010       2020       2030       2040  \n",
       "0  8,008,278  8,242,624  8,550,971  8,821,027  9,025,145  \n",
       "1  1,332,650  1,385,108  1,446,788  1,518,998  1,579,245  \n",
       "2  2,465,326  2,552,911  2,648,452  2,754,009  2,840,525  \n",
       "3  1,537,195  1,585,873  1,638,281  1,676,720  1,691,617  \n",
       "4  2,229,379  2,250,002  2,330,295  2,373,551  2,412,649  \n",
       "5    443,728    468,730    487,155    497,749    501,109  "
      ]
     },
     "execution_count": 9,
     "metadata": {},
     "output_type": "execute_result"
    }
   ],
   "source": [
    "\"\"\"Drop unncessary columns\"\"\"\n",
    "\n",
    "pop = population.copy()\n",
    "pop.drop(['Age Group','1950 - Boro share of NYC total','1960 - Boro share of NYC total',\n",
    "          '1970 - Boro share of NYC total','1980 - Boro share of NYC total',\n",
    "          '1990 - Boro share of NYC total','2000 - Boro share of NYC total',\n",
    "          '2010 - Boro share of NYC total','2020 - Boro share of NYC total',\n",
    "          '2030 - Boro share of NYC total','2040 - Boro share of NYC total'], axis=1, inplace=True)\n",
    "pop"
   ]
  },
  {
   "cell_type": "code",
   "execution_count": 10,
   "metadata": {},
   "outputs": [
    {
     "data": {
      "text/html": [
       "<div>\n",
       "<style scoped>\n",
       "    .dataframe tbody tr th:only-of-type {\n",
       "        vertical-align: middle;\n",
       "    }\n",
       "\n",
       "    .dataframe tbody tr th {\n",
       "        vertical-align: top;\n",
       "    }\n",
       "\n",
       "    .dataframe thead th {\n",
       "        text-align: right;\n",
       "    }\n",
       "</style>\n",
       "<table border=\"1\" class=\"dataframe\">\n",
       "  <thead>\n",
       "    <tr style=\"text-align: right;\">\n",
       "      <th></th>\n",
       "      <th>CMPLT_NUM</th>\n",
       "      <th>CMPLNT_FR_DT</th>\n",
       "      <th>CMPLNT_FR_TM</th>\n",
       "      <th>CMPLNT_TO_DT</th>\n",
       "      <th>CMPLNT_TO_TM</th>\n",
       "      <th>RPT_DT</th>\n",
       "      <th>OFNS_DESC</th>\n",
       "      <th>PD_DESC</th>\n",
       "      <th>CRM_STTUS</th>\n",
       "      <th>LAW_CODE</th>\n",
       "      <th>BORO_NM</th>\n",
       "      <th>PREM_TYP_DESC</th>\n",
       "    </tr>\n",
       "  </thead>\n",
       "  <tbody>\n",
       "    <tr>\n",
       "      <th>0</th>\n",
       "      <td>101109527</td>\n",
       "      <td>12/31/2015</td>\n",
       "      <td>23:45:00</td>\n",
       "      <td>NaN</td>\n",
       "      <td>NaN</td>\n",
       "      <td>12/31/2015</td>\n",
       "      <td>FORGERY</td>\n",
       "      <td>FORGERY,ETC.,UNCLASSIFIED-FELO</td>\n",
       "      <td>COMPLETED</td>\n",
       "      <td>FELONY</td>\n",
       "      <td>BRONX</td>\n",
       "      <td>BAR/NIGHT CLUB</td>\n",
       "    </tr>\n",
       "    <tr>\n",
       "      <th>1</th>\n",
       "      <td>153401121</td>\n",
       "      <td>12/31/2015</td>\n",
       "      <td>23:36:00</td>\n",
       "      <td>NaN</td>\n",
       "      <td>NaN</td>\n",
       "      <td>12/31/2015</td>\n",
       "      <td>MURDER &amp; NON-NEGL. MANSLAUGHTER</td>\n",
       "      <td>NaN</td>\n",
       "      <td>COMPLETED</td>\n",
       "      <td>FELONY</td>\n",
       "      <td>QUEENS</td>\n",
       "      <td>NaN</td>\n",
       "    </tr>\n",
       "    <tr>\n",
       "      <th>2</th>\n",
       "      <td>569369778</td>\n",
       "      <td>12/31/2015</td>\n",
       "      <td>23:30:00</td>\n",
       "      <td>NaN</td>\n",
       "      <td>NaN</td>\n",
       "      <td>12/31/2015</td>\n",
       "      <td>DANGEROUS DRUGS</td>\n",
       "      <td>CONTROLLED SUBSTANCE,INTENT TO</td>\n",
       "      <td>COMPLETED</td>\n",
       "      <td>FELONY</td>\n",
       "      <td>MANHATTAN</td>\n",
       "      <td>OTHER</td>\n",
       "    </tr>\n",
       "    <tr>\n",
       "      <th>3</th>\n",
       "      <td>968417082</td>\n",
       "      <td>12/31/2015</td>\n",
       "      <td>23:30:00</td>\n",
       "      <td>NaN</td>\n",
       "      <td>NaN</td>\n",
       "      <td>12/31/2015</td>\n",
       "      <td>ASSAULT 3 &amp; RELATED OFFENSES</td>\n",
       "      <td>ASSAULT 3</td>\n",
       "      <td>COMPLETED</td>\n",
       "      <td>MISDEMEANOR</td>\n",
       "      <td>QUEENS</td>\n",
       "      <td>RESIDENCE-HOUSE</td>\n",
       "    </tr>\n",
       "    <tr>\n",
       "      <th>4</th>\n",
       "      <td>641637920</td>\n",
       "      <td>12/31/2015</td>\n",
       "      <td>23:25:00</td>\n",
       "      <td>12/31/2015</td>\n",
       "      <td>23:30:00</td>\n",
       "      <td>12/31/2015</td>\n",
       "      <td>ASSAULT 3 &amp; RELATED OFFENSES</td>\n",
       "      <td>ASSAULT 3</td>\n",
       "      <td>COMPLETED</td>\n",
       "      <td>MISDEMEANOR</td>\n",
       "      <td>MANHATTAN</td>\n",
       "      <td>OTHER</td>\n",
       "    </tr>\n",
       "  </tbody>\n",
       "</table>\n",
       "</div>"
      ],
      "text/plain": [
       "   CMPLT_NUM CMPLNT_FR_DT CMPLNT_FR_TM CMPLNT_TO_DT CMPLNT_TO_TM      RPT_DT  \\\n",
       "0  101109527   12/31/2015     23:45:00          NaN          NaN  12/31/2015   \n",
       "1  153401121   12/31/2015     23:36:00          NaN          NaN  12/31/2015   \n",
       "2  569369778   12/31/2015     23:30:00          NaN          NaN  12/31/2015   \n",
       "3  968417082   12/31/2015     23:30:00          NaN          NaN  12/31/2015   \n",
       "4  641637920   12/31/2015     23:25:00   12/31/2015     23:30:00  12/31/2015   \n",
       "\n",
       "                         OFNS_DESC                         PD_DESC  CRM_STTUS  \\\n",
       "0                          FORGERY  FORGERY,ETC.,UNCLASSIFIED-FELO  COMPLETED   \n",
       "1  MURDER & NON-NEGL. MANSLAUGHTER                             NaN  COMPLETED   \n",
       "2                  DANGEROUS DRUGS  CONTROLLED SUBSTANCE,INTENT TO  COMPLETED   \n",
       "3     ASSAULT 3 & RELATED OFFENSES                       ASSAULT 3  COMPLETED   \n",
       "4     ASSAULT 3 & RELATED OFFENSES                       ASSAULT 3  COMPLETED   \n",
       "\n",
       "      LAW_CODE    BORO_NM    PREM_TYP_DESC  \n",
       "0       FELONY      BRONX   BAR/NIGHT CLUB  \n",
       "1       FELONY     QUEENS              NaN  \n",
       "2       FELONY  MANHATTAN            OTHER  \n",
       "3  MISDEMEANOR     QUEENS  RESIDENCE-HOUSE  \n",
       "4  MISDEMEANOR  MANHATTAN            OTHER  "
      ]
     },
     "execution_count": 10,
     "metadata": {},
     "output_type": "execute_result"
    }
   ],
   "source": [
    "\"\"\"Drop unnecessary columns\"\"\"\n",
    "dfcrime = df.copy()\n",
    "#dfcrime = dfcrime.loc[1:10000]\n",
    "dfcrime.drop(['JURIS_DESC', 'ADDR_PCT_CD', 'PARKS_NM', 'HADEVELOPT', 'X_COORD_CD', 'Y_COORD_CD', \n",
    "              'Latitude', 'Longitude', 'Lat_Lon', 'LOC_OF_OCCUR_DESC', \n",
    "              'KY_CD', 'PD_CD', 'PD_CD'], axis=1, inplace=True) \n",
    "dfcrime.columns\n",
    "dfcrime.columns = ['CMPLT_NUM', 'CMPLNT_FR_DT','CMPLNT_FR_TM', 'CMPLNT_TO_DT', 'CMPLNT_TO_TM', \n",
    "                   'RPT_DT', 'OFNS_DESC', 'PD_DESC', 'CRM_STTUS', 'LAW_CODE', \n",
    "                   'BORO_NM', 'PREM_TYP_DESC']\n",
    "dfcrime.head()"
   ]
  },
  {
   "cell_type": "code",
   "execution_count": 11,
   "metadata": {},
   "outputs": [
    {
     "data": {
      "text/html": [
       "<div>\n",
       "<style scoped>\n",
       "    .dataframe tbody tr th:only-of-type {\n",
       "        vertical-align: middle;\n",
       "    }\n",
       "\n",
       "    .dataframe tbody tr th {\n",
       "        vertical-align: top;\n",
       "    }\n",
       "\n",
       "    .dataframe thead th {\n",
       "        text-align: right;\n",
       "    }\n",
       "</style>\n",
       "<table border=\"1\" class=\"dataframe\">\n",
       "  <thead>\n",
       "    <tr style=\"text-align: right;\">\n",
       "      <th></th>\n",
       "      <th>CMPLT_NUM</th>\n",
       "      <th>CMPLNT_FR_DT</th>\n",
       "      <th>CMPLNT_FR_TM</th>\n",
       "      <th>CMPLNT_TO_DT</th>\n",
       "      <th>CMPLNT_TO_TM</th>\n",
       "      <th>RPT_DT</th>\n",
       "      <th>OFNS_DESC</th>\n",
       "      <th>PD_DESC</th>\n",
       "      <th>CRM_STTUS</th>\n",
       "      <th>LAW_CODE</th>\n",
       "      <th>BORO_NM</th>\n",
       "      <th>PREM_TYP_DESC</th>\n",
       "      <th>FELONY</th>\n",
       "      <th>MISDEMEANOR</th>\n",
       "      <th>VIOLATION</th>\n",
       "    </tr>\n",
       "    <tr>\n",
       "      <th>Date_OCCRD</th>\n",
       "      <th></th>\n",
       "      <th></th>\n",
       "      <th></th>\n",
       "      <th></th>\n",
       "      <th></th>\n",
       "      <th></th>\n",
       "      <th></th>\n",
       "      <th></th>\n",
       "      <th></th>\n",
       "      <th></th>\n",
       "      <th></th>\n",
       "      <th></th>\n",
       "      <th></th>\n",
       "      <th></th>\n",
       "      <th></th>\n",
       "    </tr>\n",
       "  </thead>\n",
       "  <tbody>\n",
       "    <tr>\n",
       "      <th>2015-12-31 23:45:00</th>\n",
       "      <td>101109527</td>\n",
       "      <td>12/31/2015</td>\n",
       "      <td>23:45:00</td>\n",
       "      <td>NaN</td>\n",
       "      <td>NaN</td>\n",
       "      <td>12/31/2015</td>\n",
       "      <td>FORGERY</td>\n",
       "      <td>FORGERY,ETC.,UNCLASSIFIED-FELO</td>\n",
       "      <td>COMPLETED</td>\n",
       "      <td>FELONY</td>\n",
       "      <td>BRONX</td>\n",
       "      <td>BAR/NIGHT CLUB</td>\n",
       "      <td>1</td>\n",
       "      <td>0</td>\n",
       "      <td>0</td>\n",
       "    </tr>\n",
       "    <tr>\n",
       "      <th>2015-12-31 23:36:00</th>\n",
       "      <td>153401121</td>\n",
       "      <td>12/31/2015</td>\n",
       "      <td>23:36:00</td>\n",
       "      <td>NaN</td>\n",
       "      <td>NaN</td>\n",
       "      <td>12/31/2015</td>\n",
       "      <td>MURDER &amp; NON-NEGL. MANSLAUGHTER</td>\n",
       "      <td>NaN</td>\n",
       "      <td>COMPLETED</td>\n",
       "      <td>FELONY</td>\n",
       "      <td>QUEENS</td>\n",
       "      <td>NaN</td>\n",
       "      <td>1</td>\n",
       "      <td>0</td>\n",
       "      <td>0</td>\n",
       "    </tr>\n",
       "    <tr>\n",
       "      <th>2015-12-31 23:30:00</th>\n",
       "      <td>569369778</td>\n",
       "      <td>12/31/2015</td>\n",
       "      <td>23:30:00</td>\n",
       "      <td>NaN</td>\n",
       "      <td>NaN</td>\n",
       "      <td>12/31/2015</td>\n",
       "      <td>DANGEROUS DRUGS</td>\n",
       "      <td>CONTROLLED SUBSTANCE,INTENT TO</td>\n",
       "      <td>COMPLETED</td>\n",
       "      <td>FELONY</td>\n",
       "      <td>MANHATTAN</td>\n",
       "      <td>OTHER</td>\n",
       "      <td>1</td>\n",
       "      <td>0</td>\n",
       "      <td>0</td>\n",
       "    </tr>\n",
       "    <tr>\n",
       "      <th>2015-12-31 23:30:00</th>\n",
       "      <td>968417082</td>\n",
       "      <td>12/31/2015</td>\n",
       "      <td>23:30:00</td>\n",
       "      <td>NaN</td>\n",
       "      <td>NaN</td>\n",
       "      <td>12/31/2015</td>\n",
       "      <td>ASSAULT 3 &amp; RELATED OFFENSES</td>\n",
       "      <td>ASSAULT 3</td>\n",
       "      <td>COMPLETED</td>\n",
       "      <td>MISDEMEANOR</td>\n",
       "      <td>QUEENS</td>\n",
       "      <td>RESIDENCE-HOUSE</td>\n",
       "      <td>0</td>\n",
       "      <td>1</td>\n",
       "      <td>0</td>\n",
       "    </tr>\n",
       "    <tr>\n",
       "      <th>2015-12-31 23:25:00</th>\n",
       "      <td>641637920</td>\n",
       "      <td>12/31/2015</td>\n",
       "      <td>23:25:00</td>\n",
       "      <td>12/31/2015</td>\n",
       "      <td>23:30:00</td>\n",
       "      <td>12/31/2015</td>\n",
       "      <td>ASSAULT 3 &amp; RELATED OFFENSES</td>\n",
       "      <td>ASSAULT 3</td>\n",
       "      <td>COMPLETED</td>\n",
       "      <td>MISDEMEANOR</td>\n",
       "      <td>MANHATTAN</td>\n",
       "      <td>OTHER</td>\n",
       "      <td>0</td>\n",
       "      <td>1</td>\n",
       "      <td>0</td>\n",
       "    </tr>\n",
       "  </tbody>\n",
       "</table>\n",
       "</div>"
      ],
      "text/plain": [
       "                     CMPLT_NUM CMPLNT_FR_DT CMPLNT_FR_TM CMPLNT_TO_DT  \\\n",
       "Date_OCCRD                                                              \n",
       "2015-12-31 23:45:00  101109527   12/31/2015     23:45:00          NaN   \n",
       "2015-12-31 23:36:00  153401121   12/31/2015     23:36:00          NaN   \n",
       "2015-12-31 23:30:00  569369778   12/31/2015     23:30:00          NaN   \n",
       "2015-12-31 23:30:00  968417082   12/31/2015     23:30:00          NaN   \n",
       "2015-12-31 23:25:00  641637920   12/31/2015     23:25:00   12/31/2015   \n",
       "\n",
       "                    CMPLNT_TO_TM      RPT_DT                        OFNS_DESC  \\\n",
       "Date_OCCRD                                                                      \n",
       "2015-12-31 23:45:00          NaN  12/31/2015                          FORGERY   \n",
       "2015-12-31 23:36:00          NaN  12/31/2015  MURDER & NON-NEGL. MANSLAUGHTER   \n",
       "2015-12-31 23:30:00          NaN  12/31/2015                  DANGEROUS DRUGS   \n",
       "2015-12-31 23:30:00          NaN  12/31/2015     ASSAULT 3 & RELATED OFFENSES   \n",
       "2015-12-31 23:25:00     23:30:00  12/31/2015     ASSAULT 3 & RELATED OFFENSES   \n",
       "\n",
       "                                            PD_DESC  CRM_STTUS     LAW_CODE  \\\n",
       "Date_OCCRD                                                                    \n",
       "2015-12-31 23:45:00  FORGERY,ETC.,UNCLASSIFIED-FELO  COMPLETED       FELONY   \n",
       "2015-12-31 23:36:00                             NaN  COMPLETED       FELONY   \n",
       "2015-12-31 23:30:00  CONTROLLED SUBSTANCE,INTENT TO  COMPLETED       FELONY   \n",
       "2015-12-31 23:30:00                       ASSAULT 3  COMPLETED  MISDEMEANOR   \n",
       "2015-12-31 23:25:00                       ASSAULT 3  COMPLETED  MISDEMEANOR   \n",
       "\n",
       "                       BORO_NM    PREM_TYP_DESC  FELONY  MISDEMEANOR  \\\n",
       "Date_OCCRD                                                             \n",
       "2015-12-31 23:45:00      BRONX   BAR/NIGHT CLUB       1            0   \n",
       "2015-12-31 23:36:00     QUEENS              NaN       1            0   \n",
       "2015-12-31 23:30:00  MANHATTAN            OTHER       1            0   \n",
       "2015-12-31 23:30:00     QUEENS  RESIDENCE-HOUSE       0            1   \n",
       "2015-12-31 23:25:00  MANHATTAN            OTHER       0            1   \n",
       "\n",
       "                     VIOLATION  \n",
       "Date_OCCRD                      \n",
       "2015-12-31 23:45:00          0  \n",
       "2015-12-31 23:36:00          0  \n",
       "2015-12-31 23:30:00          0  \n",
       "2015-12-31 23:30:00          0  \n",
       "2015-12-31 23:25:00          0  "
      ]
     },
     "execution_count": 11,
     "metadata": {},
     "output_type": "execute_result"
    }
   ],
   "source": [
    "\"\"\"Create a datetime index of times that crimes were reported to have been committed\"\"\"\n",
    "\n",
    "df2 = dfcrime.copy()\n",
    "def eliminate_nonsense_dates(x):\n",
    "    if x[2] > '2050':\n",
    "        x = None\n",
    "    elif x[2] < '2010':\n",
    "        x = None\n",
    "    else:\n",
    "        aa= '/'.join(x)\n",
    "        return (aa)\n",
    "\n",
    "df2 = df2.join(df2['LAW_CODE'].str.get_dummies()) #get dummy columns for crime categories\n",
    "df2.dropna(subset=['CMPLNT_FR_DT'], inplace=True) #drop empty dates\n",
    "df2['CMPLNT_FR_DT'] = df2['CMPLNT_FR_DT'].str.split(\"/\") #create a list for each value\n",
    "df2['CMPLNT_FR_DT'] = df2['CMPLNT_FR_DT'].apply(lambda x: eliminate_nonsense_dates(x))\n",
    "\n",
    "df2['Date_OCCRD'] = df2['CMPLNT_FR_DT'] +' '+df2['CMPLNT_FR_TM'] #Combing date and time columns\n",
    "df2['Date_OCCRD'] = pd.to_datetime(df2['Date_OCCRD'])\n",
    "df2.set_index('Date_OCCRD', inplace=True)           #set full date as index\n",
    "\n",
    "df2.head()"
   ]
  },
  {
   "cell_type": "code",
   "execution_count": 12,
   "metadata": {
    "scrolled": false
   },
   "outputs": [
    {
     "data": {
      "image/png": "[encoded data removed]",
      "text/plain": [
       "<Figure size 432x288 with 1 Axes>"
      ]
     },
     "metadata": {
      "needs_background": "light"
     },
     "output_type": "display_data"
    },
    {
     "data": {
      "image/png": "[encoded data removed]",
      "text/plain": [
       "<Figure size 432x288 with 1 Axes>"
      ]
     },
     "metadata": {
      "needs_background": "light"
     },
     "output_type": "display_data"
    },
    {
     "name": "stdout",
     "output_type": "stream",
     "text": [
      "Significantly more crimes happen on the 1st of the month\n"
     ]
    },
    {
     "data": {
      "image/png": "[encoded data removed]",
      "text/plain": [
       "<Figure size 864x432 with 1 Axes>"
      ]
     },
     "metadata": {
      "needs_background": "light"
     },
     "output_type": "display_data"
    },
    {
     "name": "stdout",
     "output_type": "stream",
     "text": [
      "It seems like more crimes happen in the afternoon than at night\n"
     ]
    },
    {
     "data": {
      "image/png": "[encoded data removed]",
      "text/plain": [
       "<Figure size 864x432 with 1 Axes>"
      ]
     },
     "metadata": {
      "needs_background": "light"
     },
     "output_type": "display_data"
    }
   ],
   "source": [
    "\"\"\"Analysis of Violations, Felonies and Misdemeanor\"\"\"\n",
    "\n",
    "dfYear = df2.iloc[:969550] #slice dataframe so it includes only 2014-2015 data\n",
    "dfYear.index = dfYear.index.year\n",
    "vis0 = dfYear.groupby([dfYear.index.get_level_values(0)])[['VIOLATION','FELONY','MISDEMEANOR']].sum()\n",
    "vis0.plot.bar()\n",
    "plt.title('Amount of crime per year')\n",
    "plt.xlabel('Year')\n",
    "plt.show()\n",
    "\n",
    "dfMonth = df2.iloc[:969550] \n",
    "dfMonth.index = dfMonth.index.month\n",
    "vis1 = dfMonth.groupby([dfMonth.index.get_level_values(0)])[['VIOLATION','FELONY','MISDEMEANOR']].sum()\n",
    "vis1.plot.bar()\n",
    "plt.title('Amount of crime per month')\n",
    "plt.legend(loc='upper left')\n",
    "plt.xlabel('Month')\n",
    "plt.show()\n",
    "\n",
    "dfDay = df2.iloc[:969550] \n",
    "print (\"Significantly more crimes happen on the 1st of the month\")\n",
    "dfDay.index = dfDay.index.day\n",
    "vis2 = dfDay.groupby([dfDay.index.get_level_values(0)])[['VIOLATION','FELONY','MISDEMEANOR']].sum()\n",
    "vis2.plot.bar(figsize=(12,6))\n",
    "plt.title('Amount of crime per day')\n",
    "plt.xlabel('Day of Month')\n",
    "plt.show()\n",
    "\n",
    "dfHour = df2.iloc[:969550] \n",
    "print (\"It seems like more crimes happen in the afternoon than at night\")\n",
    "dfHour.index = dfHour.index.hour  \n",
    "vis3 = dfHour.groupby([dfHour.index.get_level_values(0)])[['VIOLATION','FELONY','MISDEMEANOR']].sum()\n",
    "vis3.plot.bar(figsize=(12,6))\n",
    "plt.title('Amount of crime per hour')\n",
    "plt.xlabel('Time of day')\n",
    "plt.show()\n"
   ]
  },
  {
   "cell_type": "code",
   "execution_count": 13,
   "metadata": {},
   "outputs": [
    {
     "name": "stdout",
     "output_type": "stream",
     "text": [
      "Amount of crime (by hour): At what hour were crimes reported to have started on?\n"
     ]
    },
    {
     "data": {
      "image/png": "[encoded data removed]",
      "text/plain": [
       "<Figure size 864x432 with 4 Axes>"
      ]
     },
     "metadata": {
      "needs_background": "light"
     },
     "output_type": "display_data"
    }
   ],
   "source": [
    "dfOfense = df2.copy()\n",
    "dummies = dfOfense['OFNS_DESC'].str.get_dummies()\n",
    "dfOfense = dfOfense.join(dummies[['SEX CRIMES', 'MURDER & NON-NEGL. MANSLAUGHTER', \n",
    "                        'ROBBERY', 'DANGEROUS DRUGS']])\n",
    "dfOfense.index = dfOfense.index.hour\n",
    "vis0 = dfOfense.groupby([dfOfense.index.get_level_values(0)])[['SEX CRIMES', \n",
    "                                                               'MURDER & NON-NEGL. MANSLAUGHTER', \n",
    "                                                               'ROBBERY', 'DANGEROUS DRUGS']].sum()\n",
    "vis0.plot.bar(figsize=(12,6), subplots=True)\n",
    "print('Amount of crime (by hour): At what hour were crimes reported to have started on?')\n",
    "plt.xlabel('Time of day')\n",
    "plt.ylabel('Count')\n",
    "plt.show()\n"
   ]
  },
  {
   "cell_type": "code",
   "execution_count": 14,
   "metadata": {},
   "outputs": [
    {
     "name": "stdout",
     "output_type": "stream",
     "text": [
      "0.49905043258071324% of dangerous drugs crimes are related to marijuana\n"
     ]
    }
   ],
   "source": [
    "dfMarijane = df2.copy()\n",
    "dfMarijane = dfMarijane[dfMarijane['OFNS_DESC']=='DANGEROUS DRUGS']\n",
    "length = len(dfMarijane['PD_DESC'])\n",
    "Marijane = dfMarijane['PD_DESC'].str.contains('MARIJUANA')*1\n",
    "Marijane = Marijane.sum()\n",
    "perctge = Marijane/length\n",
    "print(str(perctge)+'% of dangerous drugs crimes are related to marijuana')"
   ]
  },
  {
   "cell_type": "code",
   "execution_count": 15,
   "metadata": {},
   "outputs": [
    {
     "data": {
      "image/png": "[encoded data removed]",
      "text/plain": [
       "<Figure size 432x288 with 1 Axes>"
      ]
     },
     "metadata": {
      "needs_background": "light"
     },
     "output_type": "display_data"
    }
   ],
   "source": [
    "\"\"\"10 most common crimes in NYC, by year\"\"\"\n",
    "\n",
    "df2['OFNS_DESC'].value_counts()[:10].plot.bar()\n",
    "plt.ylabel('Count')\n",
    "plt.title('10 most common crimes in NYC')\n",
    "plt.show()"
   ]
  },
  {
   "cell_type": "code",
   "execution_count": 16,
   "metadata": {},
   "outputs": [
    {
     "name": "stderr",
     "output_type": "stream",
     "text": [
      "/home/ingramai/miniconda3/lib/python3.7/site-packages/ipykernel_launcher.py:6: DeprecationWarning: \n",
      ".ix is deprecated. Please use\n",
      ".loc for label based indexing or\n",
      ".iloc for positional indexing\n",
      "\n",
      "See the documentation here:\n",
      "http://pandas.pydata.org/pandas-docs/stable/indexing.html#ix-indexer-is-deprecated\n",
      "  \n"
     ]
    },
    {
     "data": {
      "image/png": "[encoded data removed]",
      "text/plain": [
       "<Figure size 432x288 with 1 Axes>"
      ]
     },
     "metadata": {
      "needs_background": "light"
     },
     "output_type": "display_data"
    }
   ],
   "source": [
    "\"\"\"Harrasment crimes by boro in 2015 (unstandardized)\"\"\"\n",
    "\n",
    "Boro_Crime = df2.copy()\n",
    "Boro_Crime = Boro_Crime[Boro_Crime['OFNS_DESC']=='HARRASSMENT 2']\n",
    "Boro_Crime.index = Boro_Crime.index.year\n",
    "Boro_Crime = Boro_Crime.ix[2015]\n",
    "Boro_Crime['BORO_NM'].value_counts().plot.bar()\n",
    "\n",
    "plt.ylabel('Count')\n",
    "plt.title('Harrasment crimes by Borough (unstandardized) in 2015')\n",
    "plt.show()"
   ]
  },
  {
   "cell_type": "code",
   "execution_count": 17,
   "metadata": {
    "scrolled": false
   },
   "outputs": [
    {
     "name": "stdout",
     "output_type": "stream",
     "text": [
      "Although from the plot above, we see that Brooklyn has 4x more harrasment crimes than Staten Island, when considering population size, we see that Harrasment in Staten Island is approximately 20% more pervasive\n"
     ]
    },
    {
     "data": {
      "image/png": "[encoded data removed]",
      "text/plain": [
       "<Figure size 504x360 with 1 Axes>"
      ]
     },
     "metadata": {
      "needs_background": "light"
     },
     "output_type": "display_data"
    },
    {
     "data": {
      "text/html": [
       "<div>\n",
       "<style scoped>\n",
       "    .dataframe tbody tr th:only-of-type {\n",
       "        vertical-align: middle;\n",
       "    }\n",
       "\n",
       "    .dataframe tbody tr th {\n",
       "        vertical-align: top;\n",
       "    }\n",
       "\n",
       "    .dataframe thead th {\n",
       "        text-align: right;\n",
       "    }\n",
       "</style>\n",
       "<table border=\"1\" class=\"dataframe\">\n",
       "  <thead>\n",
       "    <tr style=\"text-align: right;\">\n",
       "      <th></th>\n",
       "      <th>Borough</th>\n",
       "      <th>2015_population</th>\n",
       "    </tr>\n",
       "  </thead>\n",
       "  <tbody>\n",
       "    <tr>\n",
       "      <th>0</th>\n",
       "      <td>BRONX</td>\n",
       "      <td>1415948.0</td>\n",
       "    </tr>\n",
       "    <tr>\n",
       "      <th>1</th>\n",
       "      <td>BROOKLYN</td>\n",
       "      <td>2600681.5</td>\n",
       "    </tr>\n",
       "    <tr>\n",
       "      <th>2</th>\n",
       "      <td>MANHATTAN</td>\n",
       "      <td>1612077.0</td>\n",
       "    </tr>\n",
       "    <tr>\n",
       "      <th>3</th>\n",
       "      <td>QUEENS</td>\n",
       "      <td>2290148.5</td>\n",
       "    </tr>\n",
       "    <tr>\n",
       "      <th>4</th>\n",
       "      <td>STATEN ISLAND</td>\n",
       "      <td>477942.5</td>\n",
       "    </tr>\n",
       "  </tbody>\n",
       "</table>\n",
       "</div>"
      ],
      "text/plain": [
       "         Borough  2015_population\n",
       "0          BRONX        1415948.0\n",
       "1       BROOKLYN        2600681.5\n",
       "2      MANHATTAN        1612077.0\n",
       "3         QUEENS        2290148.5\n",
       "4  STATEN ISLAND         477942.5"
      ]
     },
     "execution_count": 17,
     "metadata": {},
     "output_type": "execute_result"
    }
   ],
   "source": [
    "\"\"\"Harrasment by boro population in 2015 (standardized)\"\"\"\n",
    "b = Boro_Crime['BORO_NM'].value_counts()\n",
    "borough = pd.DataFrame(b).reset_index()\n",
    "borough.columns=['Borough','HARRASSMENT']\n",
    "\n",
    "#use linear interpolation to figure out population per boro in 2015\n",
    "boro_pop = pop.copy()\n",
    "boro_pop.drop(0,inplace=True)\n",
    "boro_pop['Borough'] = boro_pop['Borough'].map(lambda x: x.upper())\n",
    "boro_pop = boro_pop.transpose() #turn all values in 1st column into column headers\n",
    "boro_pop.reset_index(inplace=True)\n",
    "boro_pop[1] = boro_pop[1].str.strip() #strip white space from first column header\n",
    "boro_pop[2] = boro_pop[2].str.strip() #strip white space from second column header\n",
    "boro_pop[3] = boro_pop[3].str.strip()\n",
    "boro_pop[4] = boro_pop[4].str.strip()\n",
    "boro_pop[5] = boro_pop[5].str.strip()\n",
    "boro_pop.columns = boro_pop.iloc[0]    #turn index '0' with of boro names to column header\n",
    "\n",
    "boro_pop.drop(0,axis=0, inplace=True) #drop row with index 0\n",
    "boro_pop = boro_pop.rename(columns={'Borough':'Year'})\n",
    "boro_pop['Year'] = pd.to_datetime(boro_pop['Year'], format='%Y')\n",
    "boro_pop.set_index('Year', inplace=True) #index the year column\n",
    "boro_pop = boro_pop.resample('A').sum()  #create years in bewtween the decades provided\n",
    "boro_pop = boro_pop.apply(lambda x: x.str.replace(',',''))\n",
    "boro_pop.replace(np.nan,0, inplace=True)\n",
    "boro_pop = boro_pop.astype(int)\n",
    "\n",
    "#merge dataframes population and crimes\n",
    "copy_pop15 = boro_pop.replace(0,np.nan).interpolate('linear')[65:66].transpose() #slice to get the 2015 only\n",
    "copy_pop15.columns = ['2015']\n",
    "copy_pop15.reset_index(inplace=True)\n",
    "copy_pop15.columns = ['Borough', '2015_population']\n",
    "boro_crimes = borough.merge(copy_pop15, on='Borough')\n",
    "\n",
    "#calculate crime as percentage of population\n",
    "print ('Although from the plot above, we see that Brooklyn has 4x more harrasment crimes than Staten Island, when \\\n",
    "considering population size, we see that Harrasment in Staten Island is approximately 20% more pervasive')\n",
    "boro_crimes['crime_per_pop'] =  boro_crimes['HARRASSMENT'] / boro_crimes['2015_population']\n",
    "plt.figure(figsize=(7,5))\n",
    "sns.barplot(x='Borough', y='crime_per_pop', data=boro_crimes)\n",
    "plt.ylabel('Percentage')\n",
    "plt.title('2015 Harrasment crimes per boro population')\n",
    "plt.show()\n",
    "copy_pop15"
   ]
  },
  {
   "cell_type": "code",
   "execution_count": 18,
   "metadata": {},
   "outputs": [
    {
     "name": "stderr",
     "output_type": "stream",
     "text": [
      "/home/ingramai/miniconda3/lib/python3.7/site-packages/ipykernel_launcher.py:5: DeprecationWarning: \n",
      ".ix is deprecated. Please use\n",
      ".loc for label based indexing or\n",
      ".iloc for positional indexing\n",
      "\n",
      "See the documentation here:\n",
      "http://pandas.pydata.org/pandas-docs/stable/indexing.html#ix-indexer-is-deprecated\n",
      "  \"\"\"\n"
     ]
    },
    {
     "data": {
      "image/png": "[encoded data removed]",
      "text/plain": [
       "<Figure size 432x288 with 1 Axes>"
      ]
     },
     "metadata": {
      "needs_background": "light"
     },
     "output_type": "display_data"
    }
   ],
   "source": [
    "\"\"\"All NYC crimes reported by boro in 2015 (unstandardized)\"\"\"\n",
    "\n",
    "All_crimes = df2.copy()\n",
    "All_crimes.index = All_crimes.index.year\n",
    "All_crimes = All_crimes.ix[2015]\n",
    "All_crimes['BORO_NM'].value_counts().plot.bar()\n",
    "\n",
    "plt.ylabel('Count')\n",
    "plt.title('All crimes by Borough (unstandardized) in 2015')\n",
    "plt.show()"
   ]
  },
  {
   "cell_type": "code",
   "execution_count": 19,
   "metadata": {},
   "outputs": [
    {
     "name": "stdout",
     "output_type": "stream",
     "text": [
      "Although from plot above, we see that Brooklyn has almsot 40% more crime than the Bronx in absolute numbers, when considering population size, we see that overall crime in the Bronx is almost 30% more pervasive than in Brooklyn\n"
     ]
    },
    {
     "data": {
      "image/png": "[encoded data removed]",
      "text/plain": [
       "<Figure size 432x288 with 1 Axes>"
      ]
     },
     "metadata": {
      "needs_background": "light"
     },
     "output_type": "display_data"
    }
   ],
   "source": [
    "\"\"\"All crimes by boro population in 2015 (standardized)\"\"\"\n",
    "\n",
    "b1 = All_crimes['BORO_NM'].value_counts()\n",
    "borough1 = pd.DataFrame(b1).reset_index()\n",
    "borough1.columns=['Borough','Crimes']\n",
    "\n",
    "#use linear interpolation to figure out population per boro in 2015\n",
    "boro_pop1 = pop.copy()\n",
    "boro_pop1.drop(0,inplace=True)\n",
    "boro_pop1['Borough'] = boro_pop1['Borough'].map(lambda x: x.upper())\n",
    "boro_pop1 = boro_pop1.transpose() #turn all values in 1st column into column headers\n",
    "boro_pop1.reset_index(inplace=True)\n",
    "boro_pop1[1] = boro_pop1[1].str.strip() #strip white space from first column header\n",
    "boro_pop1[2] = boro_pop1[2].str.strip() #strip white space from second column header\n",
    "boro_pop1[3] = boro_pop1[3].str.strip()\n",
    "boro_pop1[4] = boro_pop1[4].str.strip()\n",
    "boro_pop1[5] = boro_pop1[5].str.strip()\n",
    "boro_pop1.columns = boro_pop1.iloc[0]    #turn index '0' with of boro names to column header\n",
    "\n",
    "boro_pop1.drop(0,axis=0, inplace=True) #drop row with index 0\n",
    "boro_pop1 = boro_pop1.rename(columns={'Borough':'Year'})\n",
    "boro_pop1['Year'] = pd.to_datetime(boro_pop1['Year'], format='%Y')\n",
    "boro_pop1.set_index('Year', inplace=True) #index the year column\n",
    "boro_pop1 = boro_pop1.resample('A').sum()  #create years in bewtween the decades provided\n",
    "boro_pop1 = boro_pop1.apply(lambda x: x.str.replace(',',''))\n",
    "boro_pop1.replace(np.nan,0, inplace=True)\n",
    "boro_pop1 = boro_pop1.astype(int)\n",
    "\n",
    "#merge dataframes\n",
    "pop15 = boro_pop1.replace(0,np.nan).interpolate('linear')[65:66].transpose() #slice to get the year 2015\n",
    "pop15.columns = ['2015']\n",
    "pop15.reset_index(inplace=True)\n",
    "pop15.columns = ['Borough', '2015']\n",
    "boro_crimes1 = borough1.merge(pop15, on='Borough')\n",
    "\n",
    "#calculate crime as percentage of population\n",
    "print ('Although from plot above, we see that Brooklyn has almsot 40% more crime than the Bronx in absolute\\\n",
    " numbers, when considering population size, we see that overall crime in the Bronx is almost 30% more pervasive than\\\n",
    " in Brooklyn')\n",
    "boro_crimes1['crime_per_pop'] =  boro_crimes1['Crimes'] / boro_crimes1['2015']\n",
    "sns.barplot(x='Borough', y='crime_per_pop', data=boro_crimes1)\n",
    "plt.ylabel('Percentage')\n",
    "plt.title('2015 crimes per boro population')\n",
    "plt.show()"
   ]
  }
 ],
 "metadata": {
  "kernelspec": {
   "display_name": "Python 3",
   "language": "python",
   "name": "python3"
  },
  "language_info": {
   "codemirror_mode": {
    "name": "ipython",
    "version": 3
   },
   "file_extension": ".py",
   "mimetype": "text/x-python",
   "name": "python",
   "nbconvert_exporter": "python",
   "pygments_lexer": "ipython3",
   "version": "3.7.3"
  }
 },
 "nbformat": 4,
 "nbformat_minor": 2
}
