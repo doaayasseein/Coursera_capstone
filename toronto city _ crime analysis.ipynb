{
 "cells": [
  {
   "cell_type": "code",
   "execution_count": 11,
   "metadata": {},
   "outputs": [],
   "source": [
    "import pandas as pd"
   ]
  },
  {
   "cell_type": "code",
   "execution_count": 65,
   "metadata": {},
   "outputs": [
    {
     "data": {
      "text/html": [
       "<div>\n",
       "<style scoped>\n",
       "    .dataframe tbody tr th:only-of-type {\n",
       "        vertical-align: middle;\n",
       "    }\n",
       "\n",
       "    .dataframe tbody tr th {\n",
       "        vertical-align: top;\n",
       "    }\n",
       "\n",
       "    .dataframe thead th {\n",
       "        text-align: right;\n",
       "    }\n",
       "</style>\n",
       "<table border=\"1\" class=\"dataframe\">\n",
       "  <thead>\n",
       "    <tr style=\"text-align: right;\">\n",
       "      <th></th>\n",
       "      <th>OBJECTID</th>\n",
       "      <th>Neighbourhood_Crime_Rates_Neigh</th>\n",
       "      <th>Neighbourhood_Crime_Rates_Hood_</th>\n",
       "      <th>Hood_ID</th>\n",
       "      <th>Neighbourhood</th>\n",
       "      <th>Assault_2014</th>\n",
       "      <th>Assault_2015</th>\n",
       "      <th>Assault_2016</th>\n",
       "      <th>Assault_2017</th>\n",
       "      <th>Assault_2018</th>\n",
       "      <th>...</th>\n",
       "      <th>Homicide_2015</th>\n",
       "      <th>Homicide_2016</th>\n",
       "      <th>Homicide_2017</th>\n",
       "      <th>Homicide_2018</th>\n",
       "      <th>Homicide_AVG</th>\n",
       "      <th>Homicide_CHG</th>\n",
       "      <th>Homicide_Rate_2018</th>\n",
       "      <th>Population</th>\n",
       "      <th>Shape__Area</th>\n",
       "      <th>Shape__Length</th>\n",
       "    </tr>\n",
       "  </thead>\n",
       "  <tbody>\n",
       "    <tr>\n",
       "      <th>0</th>\n",
       "      <td>1</td>\n",
       "      <td>Yonge-St.Clair</td>\n",
       "      <td>97</td>\n",
       "      <td>97</td>\n",
       "      <td>Yonge-St.Clair</td>\n",
       "      <td>58</td>\n",
       "      <td>38</td>\n",
       "      <td>51</td>\n",
       "      <td>46</td>\n",
       "      <td>61</td>\n",
       "      <td>...</td>\n",
       "      <td>0</td>\n",
       "      <td>0</td>\n",
       "      <td>0</td>\n",
       "      <td>0</td>\n",
       "      <td>NaN</td>\n",
       "      <td>NaN</td>\n",
       "      <td>0.0</td>\n",
       "      <td>3189</td>\n",
       "      <td>1.161315e+06</td>\n",
       "      <td>5873.270507</td>\n",
       "    </tr>\n",
       "    <tr>\n",
       "      <th>1</th>\n",
       "      <td>2</td>\n",
       "      <td>York University Heights</td>\n",
       "      <td>27</td>\n",
       "      <td>27</td>\n",
       "      <td>York University Heights</td>\n",
       "      <td>78</td>\n",
       "      <td>101</td>\n",
       "      <td>111</td>\n",
       "      <td>120</td>\n",
       "      <td>138</td>\n",
       "      <td>...</td>\n",
       "      <td>0</td>\n",
       "      <td>2</td>\n",
       "      <td>0</td>\n",
       "      <td>1</td>\n",
       "      <td>1.3</td>\n",
       "      <td>NaN</td>\n",
       "      <td>2.7</td>\n",
       "      <td>36764</td>\n",
       "      <td>1.324666e+07</td>\n",
       "      <td>18504.777616</td>\n",
       "    </tr>\n",
       "    <tr>\n",
       "      <th>2</th>\n",
       "      <td>3</td>\n",
       "      <td>Lansing-Westgate</td>\n",
       "      <td>38</td>\n",
       "      <td>38</td>\n",
       "      <td>Lansing-Westgate</td>\n",
       "      <td>216</td>\n",
       "      <td>203</td>\n",
       "      <td>223</td>\n",
       "      <td>226</td>\n",
       "      <td>197</td>\n",
       "      <td>...</td>\n",
       "      <td>0</td>\n",
       "      <td>0</td>\n",
       "      <td>0</td>\n",
       "      <td>0</td>\n",
       "      <td>NaN</td>\n",
       "      <td>NaN</td>\n",
       "      <td>0.0</td>\n",
       "      <td>10242</td>\n",
       "      <td>5.346186e+06</td>\n",
       "      <td>11112.109419</td>\n",
       "    </tr>\n",
       "    <tr>\n",
       "      <th>3</th>\n",
       "      <td>4</td>\n",
       "      <td>Yorkdale-Glen Park</td>\n",
       "      <td>31</td>\n",
       "      <td>31</td>\n",
       "      <td>Yorkdale-Glen Park</td>\n",
       "      <td>121</td>\n",
       "      <td>141</td>\n",
       "      <td>136</td>\n",
       "      <td>124</td>\n",
       "      <td>127</td>\n",
       "      <td>...</td>\n",
       "      <td>1</td>\n",
       "      <td>1</td>\n",
       "      <td>1</td>\n",
       "      <td>2</td>\n",
       "      <td>1.2</td>\n",
       "      <td>100%</td>\n",
       "      <td>11.0</td>\n",
       "      <td>18233</td>\n",
       "      <td>6.038326e+06</td>\n",
       "      <td>10079.426837</td>\n",
       "    </tr>\n",
       "    <tr>\n",
       "      <th>4</th>\n",
       "      <td>5</td>\n",
       "      <td>Stonegate-Queensway</td>\n",
       "      <td>16</td>\n",
       "      <td>16</td>\n",
       "      <td>Stonegate-Queensway</td>\n",
       "      <td>109</td>\n",
       "      <td>140</td>\n",
       "      <td>124</td>\n",
       "      <td>112</td>\n",
       "      <td>128</td>\n",
       "      <td>...</td>\n",
       "      <td>0</td>\n",
       "      <td>0</td>\n",
       "      <td>0</td>\n",
       "      <td>0</td>\n",
       "      <td>1.0</td>\n",
       "      <td>NaN</td>\n",
       "      <td>0.0</td>\n",
       "      <td>22207</td>\n",
       "      <td>7.946202e+06</td>\n",
       "      <td>11853.189803</td>\n",
       "    </tr>\n",
       "  </tbody>\n",
       "</table>\n",
       "<p>5 rows × 56 columns</p>\n",
       "</div>"
      ],
      "text/plain": [
       "   OBJECTID Neighbourhood_Crime_Rates_Neigh  Neighbourhood_Crime_Rates_Hood_  \\\n",
       "0         1                  Yonge-St.Clair                               97   \n",
       "1         2         York University Heights                               27   \n",
       "2         3                Lansing-Westgate                               38   \n",
       "3         4              Yorkdale-Glen Park                               31   \n",
       "4         5             Stonegate-Queensway                               16   \n",
       "\n",
       "   Hood_ID            Neighbourhood  Assault_2014  Assault_2015  Assault_2016  \\\n",
       "0       97           Yonge-St.Clair            58            38            51   \n",
       "1       27  York University Heights            78           101           111   \n",
       "2       38         Lansing-Westgate           216           203           223   \n",
       "3       31       Yorkdale-Glen Park           121           141           136   \n",
       "4       16      Stonegate-Queensway           109           140           124   \n",
       "\n",
       "   Assault_2017  Assault_2018  ...  Homicide_2015 Homicide_2016  \\\n",
       "0            46            61  ...              0             0   \n",
       "1           120           138  ...              0             2   \n",
       "2           226           197  ...              0             0   \n",
       "3           124           127  ...              1             1   \n",
       "4           112           128  ...              0             0   \n",
       "\n",
       "   Homicide_2017  Homicide_2018  Homicide_AVG  Homicide_CHG  \\\n",
       "0              0              0           NaN           NaN   \n",
       "1              0              1           1.3           NaN   \n",
       "2              0              0           NaN           NaN   \n",
       "3              1              2           1.2          100%   \n",
       "4              0              0           1.0           NaN   \n",
       "\n",
       "   Homicide_Rate_2018  Population   Shape__Area Shape__Length  \n",
       "0                 0.0        3189  1.161315e+06   5873.270507  \n",
       "1                 2.7       36764  1.324666e+07  18504.777616  \n",
       "2                 0.0       10242  5.346186e+06  11112.109419  \n",
       "3                11.0       18233  6.038326e+06  10079.426837  \n",
       "4                 0.0       22207  7.946202e+06  11853.189803  \n",
       "\n",
       "[5 rows x 56 columns]"
      ]
     },
     "execution_count": 65,
     "metadata": {},
     "output_type": "execute_result"
    }
   ],
   "source": [
    "toronto_crime_dataframe = pd.read_csv(\"Neighbourhood_Crime_Rates_Boundary_File_.csv\")\n",
    "toronto_crime_dataframe.head()"
   ]
  },
  {
   "cell_type": "code",
   "execution_count": 66,
   "metadata": {},
   "outputs": [
    {
     "data": {
      "text/plain": [
       "(140, 56)"
      ]
     },
     "execution_count": 66,
     "metadata": {},
     "output_type": "execute_result"
    }
   ],
   "source": [
    "toronto_crime_dataframe.shape"
   ]
  },
  {
   "cell_type": "code",
   "execution_count": 67,
   "metadata": {},
   "outputs": [
    {
     "data": {
      "text/plain": [
       "Index(['OBJECTID', 'Neighbourhood_Crime_Rates_Neigh',\n",
       "       'Neighbourhood_Crime_Rates_Hood_', 'Hood_ID', 'Neighbourhood',\n",
       "       'Assault_2014', 'Assault_2015', 'Assault_2016', 'Assault_2017',\n",
       "       'Assault_2018', 'Assault_AVG', 'Assault_CHG', 'Assault_Rate_2018',\n",
       "       'Auto_Theft_2014', 'Auto_Theft_2015', 'Auto_Theft_2016',\n",
       "       'Auto_Theft_2017', 'Auto_Theft_2018', 'AutoTheft_AVG', 'AutoTheft_CHG',\n",
       "       'AutoTheft_Rate_2018', 'BreakandEnter_2014', 'BreakandEnter_2015',\n",
       "       'BreakandEnter_2016', 'BreakandEnter_2017', 'BreakandEnter_2018',\n",
       "       'BreakandEnter_AVG', 'BreakandEnter_CHG', 'BreakandEnter_Rate_2018',\n",
       "       'Robbery_2014', 'Robbery_2015', 'Robbery_2016', 'Robbery_2017',\n",
       "       'Robbery_2018', 'Robbery_AVG', 'Robbery_CHG', 'Robbery_Rate_2018',\n",
       "       'Theft_Over_2014', 'Theft_Over_2015', 'Theft_Over_2016',\n",
       "       'Theft_Over_2017', 'Theft_Over_2018', 'TheftOver_AVG', 'TheftOver_CHG',\n",
       "       'TheftOver_Rate_2018', 'Homicide_2014', 'Homicide_2015',\n",
       "       'Homicide_2016', 'Homicide_2017', 'Homicide_2018', 'Homicide_AVG',\n",
       "       'Homicide_CHG', 'Homicide_Rate_2018', 'Population', 'Shape__Area',\n",
       "       'Shape__Length'],\n",
       "      dtype='object')"
      ]
     },
     "execution_count": 67,
     "metadata": {},
     "output_type": "execute_result"
    }
   ],
   "source": [
    "toronto_crime_dataframe.columns"
   ]
  },
  {
   "cell_type": "code",
   "execution_count": 68,
   "metadata": {},
   "outputs": [
    {
     "data": {
      "text/plain": [
       "OBJECTID                                        1\n",
       "Neighbourhood_Crime_Rates_Neigh    Yonge-St.Clair\n",
       "Neighbourhood_Crime_Rates_Hood_                97\n",
       "Hood_ID                                        97\n",
       "Neighbourhood                      Yonge-St.Clair\n",
       "Assault_2014                                   58\n",
       "Assault_2015                                   38\n",
       "Assault_2016                                   51\n",
       "Assault_2017                                   46\n",
       "Assault_2018                                   61\n",
       "Assault_AVG                                  50.8\n",
       "Assault_CHG                                   33%\n",
       "Assault_Rate_2018                          1912.8\n",
       "Auto_Theft_2014                                28\n",
       "Auto_Theft_2015                                32\n",
       "Auto_Theft_2016                                22\n",
       "Auto_Theft_2017                                46\n",
       "Auto_Theft_2018                                69\n",
       "AutoTheft_AVG                                39.4\n",
       "AutoTheft_CHG                                 50%\n",
       "AutoTheft_Rate_2018                        2163.7\n",
       "BreakandEnter_2014                             29\n",
       "BreakandEnter_2015                             16\n",
       "BreakandEnter_2016                             28\n",
       "BreakandEnter_2017                             32\n",
       "BreakandEnter_2018                             23\n",
       "BreakandEnter_AVG                            25.6\n",
       "BreakandEnter_CHG                            -28%\n",
       "BreakandEnter_Rate_2018                     721.2\n",
       "Robbery_2014                                   12\n",
       "Robbery_2015                                   25\n",
       "Robbery_2016                                   14\n",
       "Robbery_2017                                   21\n",
       "Robbery_2018                                   19\n",
       "Robbery_AVG                                  18.2\n",
       "Robbery_CHG                                  -10%\n",
       "Robbery_Rate_2018                           595.8\n",
       "Theft_Over_2014                                 3\n",
       "Theft_Over_2015                                 6\n",
       "Theft_Over_2016                                 4\n",
       "Theft_Over_2017                                 6\n",
       "Theft_Over_2018                                 3\n",
       "TheftOver_AVG                                 4.4\n",
       "TheftOver_CHG                                -50%\n",
       "TheftOver_Rate_2018                          94.1\n",
       "Homicide_2014                                   0\n",
       "Homicide_2015                                   0\n",
       "Homicide_2016                                   0\n",
       "Homicide_2017                                   0\n",
       "Homicide_2018                                   0\n",
       "Homicide_AVG                                  NaN\n",
       "Homicide_CHG                                  NaN\n",
       "Homicide_Rate_2018                              0\n",
       "Population                                   3189\n",
       "Shape__Area                           1.16131e+06\n",
       "Shape__Length                             5873.27\n",
       "Name: 0, dtype: object"
      ]
     },
     "execution_count": 68,
     "metadata": {},
     "output_type": "execute_result"
    }
   ],
   "source": [
    "toronto_crime_dataframe.iloc[0]"
   ]
  },
  {
   "cell_type": "code",
   "execution_count": 69,
   "metadata": {},
   "outputs": [],
   "source": [
    "Tornoto_neighborhoods =  toronto_crime_dataframe[['Neighbourhood','Assault_Rate_2018','AutoTheft_Rate_2018','BreakandEnter_Rate_2018','Robbery_Rate_2018','TheftOver_Rate_2018','Homicide_Rate_2018','Population']]"
   ]
  },
  {
   "cell_type": "code",
   "execution_count": 70,
   "metadata": {},
   "outputs": [
    {
     "data": {
      "text/plain": [
       "Index(['Neighbourhood', 'Assault_Rate_2018', 'AutoTheft_Rate_2018',\n",
       "       'BreakandEnter_Rate_2018', 'Robbery_Rate_2018', 'TheftOver_Rate_2018',\n",
       "       'Homicide_Rate_2018', 'Population'],\n",
       "      dtype='object')"
      ]
     },
     "execution_count": 70,
     "metadata": {},
     "output_type": "execute_result"
    }
   ],
   "source": [
    "Tornoto_neighborhoods.columns\n"
   ]
  },
  {
   "cell_type": "code",
   "execution_count": 71,
   "metadata": {},
   "outputs": [],
   "source": [
    "import seaborn\n",
    "import matplotlib.pyplot as plt"
   ]
  },
  {
   "cell_type": "code",
   "execution_count": 72,
   "metadata": {},
   "outputs": [
    {
     "data": {
      "text/html": [
       "<div>\n",
       "<style scoped>\n",
       "    .dataframe tbody tr th:only-of-type {\n",
       "        vertical-align: middle;\n",
       "    }\n",
       "\n",
       "    .dataframe tbody tr th {\n",
       "        vertical-align: top;\n",
       "    }\n",
       "\n",
       "    .dataframe thead th {\n",
       "        text-align: right;\n",
       "    }\n",
       "</style>\n",
       "<table border=\"1\" class=\"dataframe\">\n",
       "  <thead>\n",
       "    <tr style=\"text-align: right;\">\n",
       "      <th></th>\n",
       "      <th>Postcode</th>\n",
       "      <th>Borough</th>\n",
       "      <th>Neighbourhood</th>\n",
       "    </tr>\n",
       "  </thead>\n",
       "  <tbody>\n",
       "    <tr>\n",
       "      <th>0</th>\n",
       "      <td>M1A</td>\n",
       "      <td>Not assigned</td>\n",
       "      <td>Not assigned</td>\n",
       "    </tr>\n",
       "    <tr>\n",
       "      <th>1</th>\n",
       "      <td>M2A</td>\n",
       "      <td>Not assigned</td>\n",
       "      <td>Not assigned</td>\n",
       "    </tr>\n",
       "    <tr>\n",
       "      <th>2</th>\n",
       "      <td>M3A</td>\n",
       "      <td>North York</td>\n",
       "      <td>Parkwoods</td>\n",
       "    </tr>\n",
       "    <tr>\n",
       "      <th>3</th>\n",
       "      <td>M4A</td>\n",
       "      <td>North York</td>\n",
       "      <td>Victoria Village</td>\n",
       "    </tr>\n",
       "    <tr>\n",
       "      <th>4</th>\n",
       "      <td>M5A</td>\n",
       "      <td>Downtown Toronto</td>\n",
       "      <td>Harbourfront</td>\n",
       "    </tr>\n",
       "  </tbody>\n",
       "</table>\n",
       "</div>"
      ],
      "text/plain": [
       "  Postcode           Borough     Neighbourhood\n",
       "0      M1A      Not assigned      Not assigned\n",
       "1      M2A      Not assigned      Not assigned\n",
       "2      M3A        North York         Parkwoods\n",
       "3      M4A        North York  Victoria Village\n",
       "4      M5A  Downtown Toronto      Harbourfront"
      ]
     },
     "execution_count": 72,
     "metadata": {},
     "output_type": "execute_result"
    }
   ],
   "source": [
    "\n",
    "# froup by neighboorhoods within the same borough\n",
    "tables = pd.read_html(\"https://en.wikipedia.org/wiki/List_of_postal_codes_of_Canada:_M\")\n",
    "neighbourhouds = tables[0]\n",
    "neighbourhouds.head()"
   ]
  },
  {
   "cell_type": "code",
   "execution_count": 73,
   "metadata": {},
   "outputs": [],
   "source": [
    "neighbourhouds = neighbourhouds[neighbourhouds.Borough != 'Not assigned']"
   ]
  },
  {
   "cell_type": "code",
   "execution_count": 74,
   "metadata": {},
   "outputs": [],
   "source": [
    "neighbourhouds = neighbourhouds[['Neighbourhood','Borough']]"
   ]
  },
  {
   "cell_type": "code",
   "execution_count": 75,
   "metadata": {},
   "outputs": [],
   "source": [
    "Tornoto_borough = neighbourhouds.merge(Tornoto_neighborhoods, left_on ='Neighbourhood', right_on= 'Neighbourhood')"
   ]
  },
  {
   "cell_type": "code",
   "execution_count": 76,
   "metadata": {},
   "outputs": [
    {
     "data": {
      "text/plain": [
       "Index(['Neighbourhood', 'Borough', 'Assault_Rate_2018', 'AutoTheft_Rate_2018',\n",
       "       'BreakandEnter_Rate_2018', 'Robbery_Rate_2018', 'TheftOver_Rate_2018',\n",
       "       'Homicide_Rate_2018', 'Population'],\n",
       "      dtype='object')"
      ]
     },
     "execution_count": 76,
     "metadata": {},
     "output_type": "execute_result"
    }
   ],
   "source": [
    "Tornoto_borough.columns"
   ]
  },
  {
   "cell_type": "code",
   "execution_count": 77,
   "metadata": {},
   "outputs": [
    {
     "data": {
      "text/plain": [
       "(36, 9)"
      ]
     },
     "execution_count": 77,
     "metadata": {},
     "output_type": "execute_result"
    }
   ],
   "source": [
    "Tornoto_borough.shape"
   ]
  },
  {
   "cell_type": "code",
   "execution_count": 83,
   "metadata": {},
   "outputs": [
    {
     "data": {
      "text/html": [
       "<div>\n",
       "<style scoped>\n",
       "    .dataframe tbody tr th:only-of-type {\n",
       "        vertical-align: middle;\n",
       "    }\n",
       "\n",
       "    .dataframe tbody tr th {\n",
       "        vertical-align: top;\n",
       "    }\n",
       "\n",
       "    .dataframe thead th {\n",
       "        text-align: right;\n",
       "    }\n",
       "</style>\n",
       "<table border=\"1\" class=\"dataframe\">\n",
       "  <thead>\n",
       "    <tr style=\"text-align: right;\">\n",
       "      <th></th>\n",
       "      <th>Population</th>\n",
       "    </tr>\n",
       "    <tr>\n",
       "      <th>Borough</th>\n",
       "      <th></th>\n",
       "    </tr>\n",
       "  </thead>\n",
       "  <tbody>\n",
       "    <tr>\n",
       "      <th>Central Toronto</th>\n",
       "      <td>11459</td>\n",
       "    </tr>\n",
       "    <tr>\n",
       "      <th>Downtown Toronto</th>\n",
       "      <td>11243</td>\n",
       "    </tr>\n",
       "    <tr>\n",
       "      <th>East Toronto</th>\n",
       "      <td>28378</td>\n",
       "    </tr>\n",
       "    <tr>\n",
       "      <th>East York</th>\n",
       "      <td>8352</td>\n",
       "    </tr>\n",
       "    <tr>\n",
       "      <th>Etobicoke</th>\n",
       "      <td>49354</td>\n",
       "    </tr>\n",
       "  </tbody>\n",
       "</table>\n",
       "</div>"
      ],
      "text/plain": [
       "                  Population\n",
       "Borough                     \n",
       "Central Toronto        11459\n",
       "Downtown Toronto       11243\n",
       "East Toronto           28378\n",
       "East York               8352\n",
       "Etobicoke              49354"
      ]
     },
     "execution_count": 83,
     "metadata": {},
     "output_type": "execute_result"
    }
   ],
   "source": [
    "# population vs neighborhoods\n",
    "Tornoto_neighborgood_pop = Tornoto_borough[['Borough','Population']]\n",
    "Tornoto_neighborgood_pop = Tornoto_neighborgood_pop.groupby(['Borough']).sum()\n",
    "Tornoto_neighborgood_pop.head()"
   ]
  },
  {
   "cell_type": "code",
   "execution_count": 84,
   "metadata": {},
   "outputs": [
    {
     "data": {
      "image/png": "[encoded data removed]",
      "text/plain": [
       "<Figure size 1080x720 with 1 Axes>"
      ]
     },
     "metadata": {
      "needs_background": "light"
     },
     "output_type": "display_data"
    }
   ],
   "source": [
    "\n",
    "#Tornoto_neighborgood_copy =  Tornoto_neighborgood_copy.groupby([Tornoto_neighborgood_copy.index.get_level_values(0)])['Population']\n",
    "\n",
    "ax = Tornoto_neighborgood_pop[['Population']].plot(kind='bar', title =\"Amount of population per boro\", figsize=(15, 10), legend=True, fontsize=12)\n",
    "ax.set_xlabel(\"Borough\", fontsize=12)\n",
    "ax.set_ylabel(\"Population\", fontsize=12)\n",
    "plt.show()"
   ]
  },
  {
   "cell_type": "code",
   "execution_count": 88,
   "metadata": {},
   "outputs": [
    {
     "data": {
      "text/html": [
       "<div>\n",
       "<style scoped>\n",
       "    .dataframe tbody tr th:only-of-type {\n",
       "        vertical-align: middle;\n",
       "    }\n",
       "\n",
       "    .dataframe tbody tr th {\n",
       "        vertical-align: top;\n",
       "    }\n",
       "\n",
       "    .dataframe thead th {\n",
       "        text-align: right;\n",
       "    }\n",
       "</style>\n",
       "<table border=\"1\" class=\"dataframe\">\n",
       "  <thead>\n",
       "    <tr style=\"text-align: right;\">\n",
       "      <th></th>\n",
       "      <th>Assault_Rate_2018</th>\n",
       "      <th>AutoTheft_Rate_2018</th>\n",
       "      <th>BreakandEnter_Rate_2018</th>\n",
       "      <th>Robbery_Rate_2018</th>\n",
       "      <th>TheftOver_Rate_2018</th>\n",
       "      <th>Homicide_Rate_2018</th>\n",
       "    </tr>\n",
       "    <tr>\n",
       "      <th>Borough</th>\n",
       "      <th></th>\n",
       "      <th></th>\n",
       "      <th></th>\n",
       "      <th></th>\n",
       "      <th></th>\n",
       "      <th></th>\n",
       "    </tr>\n",
       "  </thead>\n",
       "  <tbody>\n",
       "    <tr>\n",
       "      <th>Central Toronto</th>\n",
       "      <td>628.3</td>\n",
       "      <td>471.2</td>\n",
       "      <td>244.3</td>\n",
       "      <td>218.2</td>\n",
       "      <td>34.9</td>\n",
       "      <td>0.0</td>\n",
       "    </tr>\n",
       "    <tr>\n",
       "      <th>Downtown Toronto</th>\n",
       "      <td>667.1</td>\n",
       "      <td>106.7</td>\n",
       "      <td>418.0</td>\n",
       "      <td>97.8</td>\n",
       "      <td>80.0</td>\n",
       "      <td>17.8</td>\n",
       "    </tr>\n",
       "    <tr>\n",
       "      <th>East Toronto</th>\n",
       "      <td>1610.4</td>\n",
       "      <td>77.5</td>\n",
       "      <td>831.6</td>\n",
       "      <td>274.9</td>\n",
       "      <td>105.7</td>\n",
       "      <td>0.0</td>\n",
       "    </tr>\n",
       "    <tr>\n",
       "      <th>East York</th>\n",
       "      <td>1616.4</td>\n",
       "      <td>1364.9</td>\n",
       "      <td>718.4</td>\n",
       "      <td>502.9</td>\n",
       "      <td>179.6</td>\n",
       "      <td>0.0</td>\n",
       "    </tr>\n",
       "    <tr>\n",
       "      <th>Etobicoke</th>\n",
       "      <td>3701.4</td>\n",
       "      <td>1049.6</td>\n",
       "      <td>1121.4</td>\n",
       "      <td>771.0</td>\n",
       "      <td>243.5</td>\n",
       "      <td>23.4</td>\n",
       "    </tr>\n",
       "  </tbody>\n",
       "</table>\n",
       "</div>"
      ],
      "text/plain": [
       "                  Assault_Rate_2018  AutoTheft_Rate_2018  \\\n",
       "Borough                                                    \n",
       "Central Toronto               628.3                471.2   \n",
       "Downtown Toronto              667.1                106.7   \n",
       "East Toronto                 1610.4                 77.5   \n",
       "East York                    1616.4               1364.9   \n",
       "Etobicoke                    3701.4               1049.6   \n",
       "\n",
       "                  BreakandEnter_Rate_2018  Robbery_Rate_2018  \\\n",
       "Borough                                                        \n",
       "Central Toronto                     244.3              218.2   \n",
       "Downtown Toronto                    418.0               97.8   \n",
       "East Toronto                        831.6              274.9   \n",
       "East York                           718.4              502.9   \n",
       "Etobicoke                          1121.4              771.0   \n",
       "\n",
       "                  TheftOver_Rate_2018  Homicide_Rate_2018  \n",
       "Borough                                                    \n",
       "Central Toronto                  34.9                 0.0  \n",
       "Downtown Toronto                 80.0                17.8  \n",
       "East Toronto                    105.7                 0.0  \n",
       "East York                       179.6                 0.0  \n",
       "Etobicoke                       243.5                23.4  "
      ]
     },
     "execution_count": 88,
     "metadata": {},
     "output_type": "execute_result"
    }
   ],
   "source": [
    "Tornoto_neighborgood_crime= Tornoto_borough[['Borough', 'Assault_Rate_2018', 'AutoTheft_Rate_2018',\n",
    "       'BreakandEnter_Rate_2018', 'Robbery_Rate_2018', 'TheftOver_Rate_2018',\n",
    "       'Homicide_Rate_2018']]\n",
    "Tornoto_neighborgood_crime= Tornoto_neighborgood_crime.groupby(['Borough']).sum()\n",
    "Tornoto_neighborgood_crime.head()"
   ]
  },
  {
   "cell_type": "code",
   "execution_count": 91,
   "metadata": {},
   "outputs": [
    {
     "data": {
      "image/png": "[encoded data removed]",
      "text/plain": [
       "<Figure size 1080x720 with 1 Axes>"
      ]
     },
     "metadata": {
      "needs_background": "light"
     },
     "output_type": "display_data"
    }
   ],
   "source": [
    "ax = Tornoto_neighborgood_crime[['Assault_Rate_2018', 'AutoTheft_Rate_2018',\n",
    "       'BreakandEnter_Rate_2018', 'Robbery_Rate_2018', 'TheftOver_Rate_2018',\n",
    "       'Homicide_Rate_2018']].plot(kind='bar', title =\"Amount of crime per boro\", figsize=(15, 10), legend=True, fontsize=12)\n",
    "ax.set_xlabel(\"Borough\", fontsize=12)\n",
    "ax.set_ylabel(\"crime\", fontsize=12)\n",
    "plt.show()"
   ]
  },
  {
   "cell_type": "code",
   "execution_count": null,
   "metadata": {},
   "outputs": [],
   "source": []
  }
 ],
 "metadata": {
  "kernelspec": {
   "display_name": "Python 3",
   "language": "python",
   "name": "python3"
  },
  "language_info": {
   "codemirror_mode": {
    "name": "ipython",
    "version": 3
   },
   "file_extension": ".py",
   "mimetype": "text/x-python",
   "name": "python",
   "nbconvert_exporter": "python",
   "pygments_lexer": "ipython3",
   "version": "3.7.3"
  }
 },
 "nbformat": 4,
 "nbformat_minor": 2
}
